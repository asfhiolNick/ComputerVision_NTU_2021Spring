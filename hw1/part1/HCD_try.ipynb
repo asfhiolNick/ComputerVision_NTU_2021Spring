{
 "cells": [
  {
   "cell_type": "code",
   "execution_count": 10,
   "metadata": {},
   "outputs": [
    {
     "name": "stdout",
     "output_type": "stream",
     "text": [
      "(256, 256)\n",
      "[]\n"
     ]
    }
   ],
   "source": [
    "import numpy as np\n",
    "import cv2\n",
    "import matplotlib.pyplot as plt\n",
    "\n",
    "###\n",
    "color = cv2.imread('./testdata/ex.png')\n",
    "img = cv2.cvtColor(color, cv2.COLOR_BGR2GRAY)\n",
    "print(img.shape)\n",
    "###\n",
    "\n",
    "img = cv2.GaussianBlur(img, (3,3), 1.5)\n",
    "#cv2.imshow('picture1', img)\n",
    "\n",
    "Ix = cv2.filter2D(img, -1, np.array([[1.,0.,-1.]]) )\n",
    "Iy = cv2.filter2D(img, -1, np.array([[1.],[0.],[-1.]]) )\n",
    "#cv2.imshow('diff', cv2.subtract(Ix, Iy))\n",
    "#cv2.imshow('Ix', Ix)\n",
    "#cv2.imshow('Iy', Iy)\n",
    "\n",
    "Ixx = Ix*Ix\n",
    "Ixy = Ix*Iy\n",
    "Iyy = Iy*Iy\n",
    "Sxx = cv2.GaussianBlur(Ixx, (3,3), 1.)\n",
    "Sxy = cv2.GaussianBlur(Ixy, (3,3), 1.)\n",
    "Syy = cv2.GaussianBlur(Iyy, (3,3), 1.)\n",
    "#print(Sxx[205,400])\n",
    "#print(Sxy[205,400])\n",
    "#print(Syy[205,400])\n",
    "\n",
    "M = np.stack((np.stack((Sxx,Sxy), axis=2), np.stack((Sxy,Syy), axis=2)), axis=3)\n",
    "#print(M[205,400])\n",
    "\n",
    "det = np.linalg.det(M)\n",
    "trace = np.trace(M, axis1=2, axis2=3)\n",
    "\n",
    "response = np.divide(det, (trace+1e-12))\n",
    "\n",
    "###\n",
    "local_max = []\n",
    "response = np.pad(response, ((2,2),(2,2)), 'constant')\n",
    "for i in range(2, response.shape[0]-2):\n",
    "    for j in range(2, response.shape[1]-2):\n",
    "        response[i-2:i+3, j-2:j+3][2,2] = -500\n",
    "        if response[i,j]>100.0 and response[i,j]>np.amax(portion):\n",
    "            local_max.append([i-2, j-2])\n",
    "\n",
    "print(local_max)\n",
    "#cv2.imshow('thres', local_max)\n",
    "\n",
    "cv2.waitKey(0)\n",
    "cv2.destroyAllWindows()\n",
    "\n"
   ]
  },
  {
   "cell_type": "code",
   "execution_count": null,
   "metadata": {
    "collapsed": true
   },
   "outputs": [],
   "source": []
  }
 ],
 "metadata": {
  "kernelspec": {
   "display_name": "Python 3",
   "language": "python",
   "name": "python3"
  },
  "language_info": {
   "codemirror_mode": {
    "name": "ipython",
    "version": 3
   },
   "file_extension": ".py",
   "mimetype": "text/x-python",
   "name": "python",
   "nbconvert_exporter": "python",
   "pygments_lexer": "ipython3",
   "version": "3.6.3"
  }
 },
 "nbformat": 4,
 "nbformat_minor": 2
}
