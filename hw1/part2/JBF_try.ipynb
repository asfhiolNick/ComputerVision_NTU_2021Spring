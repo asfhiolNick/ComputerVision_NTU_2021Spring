{
 "cells": [
  {
   "cell_type": "code",
   "execution_count": 1,
   "metadata": {},
   "outputs": [
    {
     "name": "stdout",
     "output_type": "stream",
     "text": [
      "(318, 418)\n",
      "(19, 19)\n",
      "(300, 400, 19, 19)\n",
      "(19, 19)\n"
     ]
    },
    {
     "ename": "NameError",
     "evalue": "name 'g' is not defined",
     "output_type": "error",
     "traceback": [
      "\u001b[0;31m---------------------------------------------------------------------------\u001b[0m",
      "\u001b[0;31mNameError\u001b[0m                                 Traceback (most recent call last)",
      "\u001b[0;32m<ipython-input-1-3cac3e95e404>\u001b[0m in \u001b[0;36m<module>\u001b[0;34m()\u001b[0m\n\u001b[1;32m     45\u001b[0m         \u001b[0mGr\u001b[0m\u001b[0;34m=\u001b[0m\u001b[0mnp\u001b[0m\u001b[0;34m.\u001b[0m\u001b[0mexp\u001b[0m\u001b[0;34m(\u001b[0m\u001b[0mpw\u001b[0m\u001b[0;34m)\u001b[0m\u001b[0;34m\u001b[0m\u001b[0m\n\u001b[1;32m     46\u001b[0m         \u001b[0mG\u001b[0m \u001b[0;34m=\u001b[0m\u001b[0mnp\u001b[0m\u001b[0;34m.\u001b[0m\u001b[0mmultiply\u001b[0m\u001b[0;34m(\u001b[0m\u001b[0mGs\u001b[0m\u001b[0;34m[\u001b[0m\u001b[0mi\u001b[0m\u001b[0;34m-\u001b[0m\u001b[0mself_pad_w\u001b[0m\u001b[0;34m,\u001b[0m \u001b[0mj\u001b[0m\u001b[0;34m-\u001b[0m\u001b[0mself_pad_w\u001b[0m\u001b[0;34m]\u001b[0m\u001b[0;34m,\u001b[0m \u001b[0mGr\u001b[0m\u001b[0;34m)\u001b[0m\u001b[0;34m\u001b[0m\u001b[0m\n\u001b[0;32m---> 47\u001b[0;31m         \u001b[0mW\u001b[0m \u001b[0;34m=\u001b[0m\u001b[0mg\u001b[0m\u001b[0;34m.\u001b[0m\u001b[0msum\u001b[0m\u001b[0;34m(\u001b[0m\u001b[0maxis\u001b[0m\u001b[0;34m=\u001b[0m\u001b[0;36m1\u001b[0m\u001b[0;34m)\u001b[0m\u001b[0;34m.\u001b[0m\u001b[0msum\u001b[0m\u001b[0;34m(\u001b[0m\u001b[0maxis\u001b[0m\u001b[0;34m=\u001b[0m\u001b[0;36m0\u001b[0m\u001b[0;34m)\u001b[0m\u001b[0;34m\u001b[0m\u001b[0m\n\u001b[0m\u001b[1;32m     48\u001b[0m         \u001b[0mIq\u001b[0m\u001b[0;34m=\u001b[0m\u001b[0mpadded_img\u001b[0m\u001b[0;34m[\u001b[0m\u001b[0mi\u001b[0m\u001b[0;34m-\u001b[0m\u001b[0mself_pad_w\u001b[0m\u001b[0;34m:\u001b[0m\u001b[0mi\u001b[0m\u001b[0;34m+\u001b[0m\u001b[0mself_pad_w\u001b[0m\u001b[0;34m+\u001b[0m\u001b[0;36m1\u001b[0m\u001b[0;34m,\u001b[0m \u001b[0mj\u001b[0m\u001b[0;34m-\u001b[0m\u001b[0mself_pad_w\u001b[0m\u001b[0;34m:\u001b[0m\u001b[0mj\u001b[0m\u001b[0;34m+\u001b[0m\u001b[0mself_pad_w\u001b[0m\u001b[0;34m+\u001b[0m\u001b[0;36m1\u001b[0m\u001b[0;34m,\u001b[0m\u001b[0;34m:\u001b[0m\u001b[0;34m]\u001b[0m\u001b[0;34m\u001b[0m\u001b[0m\n\u001b[1;32m     49\u001b[0m \u001b[0;34m\u001b[0m\u001b[0m\n",
      "\u001b[0;31mNameError\u001b[0m: name 'g' is not defined"
     ]
    }
   ],
   "source": [
    "import numpy as np\n",
    "import cv2\n",
    "\n",
    "img = cv2.imread('testdata/1.png')\n",
    "img_rgb = cv2.cvtColor(img, cv2.COLOR_BGR2RGB)\n",
    "guidance = cv2.cvtColor(img, cv2.COLOR_BGR2GRAY)\n",
    "\n",
    "sigma_r = 0.1\n",
    "sigma_s = 3\n",
    "self_sigma_r = sigma_r\n",
    "self_sigma_s = sigma_s\n",
    "self_wndw_size = 6*sigma_s+1\n",
    "self_pad_w = 3*sigma_s\n",
    "    \n",
    "BORDER_TYPE = cv2.BORDER_REFLECT\n",
    "padded_img = cv2.copyMakeBorder(img, self_pad_w, self_pad_w, self_pad_w, self_pad_w, BORDER_TYPE)\n",
    "padded_guidance = cv2.copyMakeBorder(guidance, self_pad_w, self_pad_w, self_pad_w, self_pad_w, BORDER_TYPE)\n",
    "print(padded_guidance.shape)\n",
    "\n",
    "### TODO ###\n",
    "# Step 1: Calculus Gs -- constant matrix\n",
    "gs = np.zeros((self_wndw_size, self_wndw_size))\n",
    "for i in range(self_wndw_size):\n",
    "    for j in range(self_wndw_size):\n",
    "        gs[i,j] = np.exp(((i-self_pad_w)*(i-self_pad_w)+(j-self_pad_w)*(j-self_pad_w))/-(2*sigma_s*sigma_s))\n",
    "print(gs.shape)\n",
    "Gs = np.repeat(gs[np.newaxis,np.newaxis,:,:], guidance.shape[0], axis=0)\n",
    "Gs = np.repeat(Gs, guidance.shape[1], axis=1)\n",
    "print(Gs.shape)\n",
    "\n",
    "# Step 2: Normalize guidance(gray)\n",
    "padded_guidance = padded_guidance.astype('float64')\n",
    "padded_img = padded_img.astype('float64')\n",
    "padded_guidance = (padded_guidance-padded_guidance.min())/(padded_guidance.max()-padded_guidance.min())\n",
    "\n",
    "# Step 3: Calculus Gr with guidance(gray), G:=Gr*Gs, JB-filter I'\n",
    "output = np.zeros(img_rgb.shape)\n",
    "\n",
    "for i in range(self_pad_w, padded_guidance.shape[0]-self_pad_w):\n",
    "    for j in range(self_pad_w, padded_guidance.shape[1]-self_pad_w):\n",
    "        Tp=padded_guidance[i,j]\n",
    "        Tq=padded_guidance[i-self_pad_w:i+self_pad_w+1, j-self_pad_w:j+self_pad_w+1]   \n",
    "        pw = np.divide(np.square(Tp-Tq), -2*self_sigma_r*self_sigma_r)\n",
    "        print(pw.shape)\n",
    "        Gr=np.exp(pw)\n",
    "        G =np.multiply(Gs[i-self_pad_w, j-self_pad_w], Gr)\n",
    "        W =g.sum(axis=1).sum(axis=0)\n",
    "        Iq=padded_img[i-self_pad_w:i+self_pad_w+1, j-self_pad_w:j+self_pad_w+1,:]\n",
    "        \n",
    "        for k in range(img_rgb.shape[2]):\n",
    "            output[i-self_pad_w, j-self_pad_w, k] = np.multiply(g,Iq[:,:,k]).sum(axis=1).sum(axis=0)/W \n",
    "\n",
    "print(output.shape)\n",
    "#return np.clip(output, 0, 255).astype(np.uint8)\n",
    "\n",
    "cv2.waitKey(0)\n",
    "cv2.destroyAllWindows()"
   ]
  },
  {
   "cell_type": "code",
   "execution_count": null,
   "metadata": {
    "collapsed": true
   },
   "outputs": [],
   "source": []
  }
 ],
 "metadata": {
  "kernelspec": {
   "display_name": "Python 3",
   "language": "python",
   "name": "python3"
  },
  "language_info": {
   "codemirror_mode": {
    "name": "ipython",
    "version": 3
   },
   "file_extension": ".py",
   "mimetype": "text/x-python",
   "name": "python",
   "nbconvert_exporter": "python",
   "pygments_lexer": "ipython3",
   "version": "3.6.3"
  }
 },
 "nbformat": 4,
 "nbformat_minor": 2
}
